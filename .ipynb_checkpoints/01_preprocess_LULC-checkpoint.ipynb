{
 "cells": [
  {
   "cell_type": "markdown",
   "metadata": {},
   "source": [
    "# Zonal statistics using polygons as zones and raster input for calculating statistics\n",
    "---\n",
    "Purpose: preprocess raster datasets for aggregation by SimU \n",
    "\n",
    "This code takes the following data inputs: \n",
    "\n",
    "1. national level SimUs as vector file\n",
    "2. categorical* raster(s) for the years of interest\n",
    "\n",
    "/* note: it will also accept ordinal rasters too, but you will need to then specify the stats to report\n",
    "\n",
    "And produces a csv in the following format:\n",
    "\n",
    "row 1: Name_1  |  FID_SimU_a  |  SimUID  |  HRU  |  Area_1000ha |  Class 1  | Class 2  |  Class n...  |  LULC_areaSum\n",
    "\n",
    "Area of each class and area in LULC_areaSum are in units of 1000 ha"
   ]
  },
  {
   "cell_type": "markdown",
   "metadata": {},
   "source": [
    "## Preamble"
   ]
  },
  {
   "cell_type": "code",
   "execution_count": 235,
   "metadata": {},
   "outputs": [],
   "source": [
    "import gdal\n",
    "import geopandas as gpd\n",
    "import pandas as pd\n",
    "import fiona as fi\n",
    "import matplotlib\n",
    "import matplotlib.pyplot as plt\n",
    "from osgeo import ogr\n",
    "import json\n",
    "import geojson\n",
    "import os\n",
    "from rasterstats import zonal_stats\n",
    "import rasterio\n",
    "import numpy as np\n",
    "import time"
   ]
  },
  {
   "cell_type": "markdown",
   "metadata": {},
   "source": [
    "## 1) Function to calculate zonal stats"
   ]
  },
  {
   "cell_type": "code",
   "execution_count": 258,
   "metadata": {},
   "outputs": [],
   "source": [
    "def calcZS(zones, rasterPath, statsList, categorical, zones_dropCols, convUnit):\n",
    "    ## rasterstats manual: https://pythonhosted.org/rasterstats/manual.html#zonal-statistics\n",
    "\n",
    "    ## calc zonal stats\n",
    "    stats = zonal_stats(zones, rasterPath, categorical = categorical, stats=statsList, nodata = 0)\n",
    "\n",
    "    ## convert stats output to pd df\n",
    "    stats_df = pd.DataFrame(stats)\n",
    "    \n",
    "    ## change the index to be the same as zones to enable concatenation\n",
    "    stats_df = stats_df.set_index(zones.index)\n",
    "    \n",
    "    ## convert pixel count to unit of interest\n",
    "    stats_df = stats_df*convUnit\n",
    "    ## Create new column that is the sum of all the LULC area categories\n",
    "    stats_df[\"LULC_areaSum\"] = stats_df.sum(axis = 1, skipna = True)\n",
    "    \n",
    "    ## concat the zones columns \n",
    "    stats_df_concat = pd.concat([pd.DataFrame(zones), stats_df], axis = 1, ignore_index = False)\n",
    "    \n",
    "    ## remove any excess columns from the zones df\n",
    "    stats_df_concat.drop(columns = zones_dropCols, inplace = True)\n",
    "\n",
    "    return stats_df_concat"
   ]
  },
  {
   "cell_type": "markdown",
   "metadata": {},
   "source": [
    "## 2) Parameters \n",
    "set parameters, import datasets, set output file names"
   ]
  },
  {
   "cell_type": "code",
   "execution_count": 279,
   "metadata": {},
   "outputs": [],
   "source": [
    "#### GENERAL PARAMETERS\n",
    "dataType = \"LULC_l48\" ## Used to name file\n",
    "year = 2011 ## used to name file\n",
    "## columns in include in the final reclassified csv\n",
    "columnsInFinal = [\"UniqueID\", \"COUNTRY\", \"FID_countr\", \"HRU\", \"Grd30\", \"State\", \"FID_SimU_a\", \"SimUID\", \"Area_km2\" ,\"Area_1000ha\", \"LULC_areaSum\", \\\n",
    "                  \"Forest\" , \"CrpLnd\", \"Grass\", \"OthNatLnd\", \"WetLnd\", \"NotRel\"]\n",
    "projectVector = \"yes\" ## yes or not to project the zones/vector file to match the raster projection\n",
    "testRun = \"no\" ## yes or no to run for just a state\n",
    "testRun_state = \"\" ## if yes, this will be the state it will run\n",
    "units = \"1000ha\" ## used to name file\n",
    "viewMaxRows = 20\n",
    "\n",
    "#### ZONAL STATS FUNCTION ARGUMENTS\n",
    "## list: zones/vector column names to drop, if any\n",
    "dropColsLs = [\"geometry\", 'oilp_yield', 'oilp_yie_1', 'oilp_yie_2']\n",
    "## scalar: area of each grid cell to multiply the categorical count to get to units of 1000 ha\n",
    "convUnit_a = 0.00009 \n",
    "## for the above, convUnit_a = 0.00009 for landsat (30 m data) since equal to 900 m2 or 30m x 30m in units of 1000 ha (0.09 ha = 900 m2; divide by 10,000)\n",
    "## boolean: whether or not the raster is categorical\n",
    "categoricalRaster = True\n",
    "## list: stats to calculate (none if categorical raster)\n",
    "statList = []\n",
    "\n",
    "#### INPUT FILE PATHS \n",
    "## Polygon (SimU) datast\n",
    "SimU_fp = \"C:\\\\Users\\\\Grace\\\\Documents\\\\FABLE\\\\GLOBIOM\\\\SimU\\\\gis\\\\SimU_all_select840_USstateSplit_proj.shp\"\n",
    "\n",
    "## Raster dataset\n",
    "raster_fp= \"C:\\\\Users\\\\Grace\\\\Documents\\\\FABLE\\\\GLOBIOM\\\\US_data\\\\LULC\\\\NLCD\\\\NLCD_2011_Land_Cover_L48_20190424\\\\NLCD_2011_Land_Cover_L48_20190424.img\"\n",
    "\n",
    "## legend\n",
    "legend_fp = \"C:\\\\Users\\\\Grace\\\\Documents\\\\FABLE\\\\GLOBIOM\\\\US_data\\\\LULC\\\\NLCD\\\\legend.csv\"\n",
    "leg_col_1 = \"Code\"\n",
    "leg_col_2 = \"Name\"\n",
    "\n",
    "## recclassification legend\n",
    "reclassLegend_fp = \"C:\\\\Users\\\\Grace\\\\Documents\\\\FABLE\\\\GLOBIOM\\\\US_data\\\\LULC\\\\NLCD\\\\NCLD_GLOBIOM_mapping.csv\"\n",
    "reclass_col_1 = \"NLCD_categoryName\"\n",
    "reclass_col_2 = \"GLOBIOM_CategoryName\"\n",
    "\n",
    "#### OUTPUT FILE PATHS\n",
    "## csv filename of state land area totals (for checking later, not an output)\n",
    "totalLandArea_fp = \"C:\\\\Users\\\\Grace\\\\Documents\\\\FABLE\\\\GLOBIOM\\\\US_data\\\\LULC\\\\NLCD\\\\processed\\\\\" + dataType + \"_totalLandArea_\" + units + \"_\" + str(year) + testRun_state + \".csv\"\n",
    "\n",
    "## csv filename of original classes\n",
    "results_fp = \"C:\\\\Users\\\\Grace\\\\Documents\\\\FABLE\\\\GLOBIOM\\\\US_data\\\\LULC\\\\NLCD\\\\processed\\\\\" + dataType + \"_NCLD_SimU_originalClasses_\" + units + \"_\" + str(year) + testRun_state + \".csv\"\n",
    "\n",
    "## csv filename of reclassifed classes\n",
    "results_mapped_fp = \"C:\\\\Users\\\\Grace\\\\Documents\\\\FABLE\\\\GLOBIOM\\\\US_data\\\\LULC\\\\NLCD\\\\processed\\\\\" + dataType + \"_NCLD_SimU_GLOBIOMclasses_\" + units + \"_\" + str(year) + testRun_state + \".csv\""
   ]
  },
  {
   "cell_type": "markdown",
   "metadata": {},
   "source": [
    "## 3) Preprocess inputs as necessary"
   ]
  },
  {
   "cell_type": "markdown",
   "metadata": {},
   "source": [
    "### If specified, project the vector/zones file to the same projection as the raster file"
   ]
  },
  {
   "cell_type": "code",
   "execution_count": 280,
   "metadata": {},
   "outputs": [],
   "source": [
    "if projectVector == \"yes\":\n",
    "    SimU = gpd.read_file(SimU_fp)\n",
    "    raster = rasterio.open(raster_fp)\n",
    "\n",
    "    SimU_proj = SimU.to_crs(crs=raster.crs.data)\n",
    "    \n",
    "else:\n",
    "    SimU_proj = SimU"
   ]
  },
  {
   "cell_type": "markdown",
   "metadata": {},
   "source": [
    "### Rename and calculate additional columns "
   ]
  },
  {
   "cell_type": "code",
   "execution_count": 281,
   "metadata": {},
   "outputs": [],
   "source": [
    "## add the units to the area column\n",
    "SimU_proj.rename(columns={\"Area\": \"Area_km2\"}, inplace = True)\n",
    "\n",
    "## convert units into 1000ha\n",
    "SimU_proj[\"Area_1000ha\"] = SimU_proj[\"Area_km2\"]*0.1"
   ]
  },
  {
   "cell_type": "markdown",
   "metadata": {},
   "source": [
    "### Test run: only use zones from a specified area"
   ]
  },
  {
   "cell_type": "code",
   "execution_count": 282,
   "metadata": {},
   "outputs": [],
   "source": [
    "if testRun == \"yes\":\n",
    "    print(\"Running \" + testRun_state)\n",
    "    SimU_proj = SimU_proj.loc[(SimU_proj['NAME_1'].astype(str) == testRun_state)]\n",
    "    SimU_proj"
   ]
  },
  {
   "cell_type": "markdown",
   "metadata": {},
   "source": [
    "## 4) Run zonal stats"
   ]
  },
  {
   "cell_type": "code",
   "execution_count": 283,
   "metadata": {},
   "outputs": [
    {
     "name": "stdout",
     "output_type": "stream",
     "text": [
      "^ Total time for completion: 23.45416270494461 minutes\n"
     ]
    }
   ],
   "source": [
    "start_time = time.time()\n",
    "## Run function\n",
    "zs_out = calcZS(zones = SimU_proj, rasterPath = raster_fp, statsList = statList, categorical = categoricalRaster, zones_dropCols = dropColsLs, convUnit = convUnit_a)\n",
    "\n",
    "## report time\n",
    "elapsed_time = (time.time() - start_time)/(60)\n",
    "print(\"^ Total time for completion: \" + str(elapsed_time) + \" minutes\")"
   ]
  },
  {
   "cell_type": "markdown",
   "metadata": {},
   "source": [
    "### View outputs"
   ]
  },
  {
   "cell_type": "code",
   "execution_count": 284,
   "metadata": {},
   "outputs": [
    {
     "name": "stdout",
     "output_type": "stream",
     "text": [
      "       FID_countr   NAME_1  FID_SimU_a  SimUID      Grd30  COUNTRY  HRU  \\\n",
      "0               0  Alabama        1434   10200  184 - 111      840  112   \n",
      "1               0  Alabama        1435   10200  184 - 111      840  112   \n",
      "2               0  Alabama        1436   10200  184 - 111      840  112   \n",
      "3               0  Alabama        1437   10201  184 - 112      840  112   \n",
      "4               0  Alabama        1438   10201  184 - 112      840  112   \n",
      "5               0  Alabama        1439   10202  184 - 113      840  112   \n",
      "6               0  Alabama        1440   10203  184 - 114      840  112   \n",
      "7               0  Alabama        1441   10204  184 - 115      840  112   \n",
      "8               0  Alabama        1442   10204  184 - 115      840  112   \n",
      "9               0  Alabama        1477   10264  185 - 111      840  112   \n",
      "...           ...      ...         ...     ...        ...      ...  ...   \n",
      "27771          50  Wyoming       27017  208568   147 - 98      840  552   \n",
      "27772          50  Wyoming       27018  208568   147 - 98      840  552   \n",
      "27773          50  Wyoming       27037  208585   148 - 97      840  552   \n",
      "27774          50  Wyoming       27038  208586   148 - 98      840  552   \n",
      "27775          50  Wyoming       27039  208586   148 - 98      840  552   \n",
      "27776          50  Wyoming       27040  208586   148 - 98      840  552   \n",
      "27777          50  Wyoming       27147  211512   139 - 93      840  562   \n",
      "27778          50  Wyoming       27153  211518   141 - 91      840  562   \n",
      "27779          50  Wyoming       27154  211519   141 - 92      840  562   \n",
      "27780          50  Wyoming       27156  211521   142 - 91      840  562   \n",
      "\n",
      "          Area_km2  Area_1000ha       11       12       21       22       23  \\\n",
      "0        70.589703     7.058970  0.20106      NaN  0.16344  0.06957  0.02340   \n",
      "1       212.533353    21.253335  0.05031      NaN  0.54270  0.13950  0.00747   \n",
      "2        70.421951     7.042195  0.76797      NaN  0.14670  0.00576  0.00063   \n",
      "3       284.488560    28.448856  0.07713      NaN  1.21401  0.34587  0.12339   \n",
      "4       141.637726    14.163773  0.04194      NaN  0.58365  0.34632  0.12294   \n",
      "5      1071.220660   107.122066  0.31608      NaN  4.61007  0.69210  0.16335   \n",
      "6      1580.098589   158.009859  2.90556      NaN  5.28552  0.85770  0.20637   \n",
      "7        72.248088     7.224809  0.18171      NaN  0.18171  0.04392  0.00090   \n",
      "8        72.008460     7.200846  0.14031      NaN  0.16371  0.00711  0.00009   \n",
      "9        70.715144     7.071514  0.98487      NaN  0.17820  0.06795  0.00666   \n",
      "...            ...          ...      ...      ...      ...      ...      ...   \n",
      "27771    64.817214     6.481721      NaN      NaN      NaN      NaN      NaN   \n",
      "27772   129.528526    12.952853  0.00432      NaN  0.00117      NaN      NaN   \n",
      "27773    64.357951     6.435795      NaN      NaN  0.00099  0.00333      NaN   \n",
      "27774    64.763874     6.476387  0.00432      NaN      NaN      NaN      NaN   \n",
      "27775    64.682814     6.468281  0.00288      NaN      NaN      NaN      NaN   \n",
      "27776    64.602389     6.460239  0.01368      NaN  0.02700  0.00945  0.00252   \n",
      "27777   124.118351    12.411835  0.09207  0.06930      NaN      NaN      NaN   \n",
      "27778    61.241769     6.124177  0.01179  0.00072      NaN      NaN      NaN   \n",
      "27779    61.846268     6.184627  0.00495  0.00450      NaN      NaN      NaN   \n",
      "27780    60.981751     6.098175  0.14337  0.00117      NaN      NaN      NaN   \n",
      "\n",
      "            24       31        41        42        43       52       71  \\\n",
      "0      0.00018  0.00252   3.10302   0.76041   0.89937  0.29133  0.53424   \n",
      "1      0.00009  0.00612   6.57882   5.10048   1.80621  2.82015  0.47862   \n",
      "2          NaN  0.00054   3.98745   0.94050   0.48861  0.17802  0.30213   \n",
      "3      0.01395  0.03114   7.99434   4.74507   4.06602  2.33154  1.24965   \n",
      "4      0.06606  0.02718   3.84408   2.26071   1.12725  0.73062  0.50499   \n",
      "5      0.04293  0.02511  20.13273  13.36167  23.62923  8.63370  6.08022   \n",
      "6      0.03861  0.05778  20.51541  26.35317  31.70466  7.72812  5.89221   \n",
      "7          NaN  0.00063   0.10719   0.66213   0.55008  0.19377  0.08523   \n",
      "8          NaN  0.00189   0.40779   1.63458   1.39527  0.56646  0.22428   \n",
      "9      0.00018  0.00072   2.50110   1.37520   0.53784  0.72324  0.09639   \n",
      "...        ...      ...       ...       ...       ...      ...      ...   \n",
      "27771      NaN      NaN   0.84492   4.30704   0.47799  0.58248  0.25200   \n",
      "27772      NaN  0.00099   1.07361   5.90472   0.03501  5.57415  0.29718   \n",
      "27773      NaN  0.00135   0.44919   4.36905   0.05481  1.13112  0.38277   \n",
      "27774      NaN      NaN   0.38538   5.19012   0.03564  0.81972  0.01467   \n",
      "27775      NaN  0.00063   0.04446   3.40785   0.00063  2.34972  0.57303   \n",
      "27776  0.03312  0.01863   0.36216   4.81887   0.02277  0.57600  0.46224   \n",
      "27777      NaN  2.02905   0.07200   3.03624   0.00378  2.92815  4.14621   \n",
      "27778      NaN  1.93212   0.02988   2.10942   0.00009  1.65321  0.38592   \n",
      "27779      NaN  1.11636   0.03645   2.41875   0.00495  1.19196  1.40382   \n",
      "27780      NaN  0.01566   0.01206   2.45412   0.00009  2.79063  0.67041   \n",
      "\n",
      "             81       82        90       95  LULC_areaSum  \n",
      "0       0.64188  0.15300   0.19944  0.01620       7.05906  \n",
      "1       2.40030  0.51327   0.74232  0.06750      21.25386  \n",
      "2       0.16821  0.00045   0.05391  0.00099       7.04187  \n",
      "3       2.86551  0.63810   2.58831  0.16515      28.44918  \n",
      "4       2.40291  1.41705   0.61200  0.07623      14.16393  \n",
      "5       8.25921  0.49923  18.81036  1.86624     107.12223  \n",
      "6      16.91946  3.85110  32.88690  2.80737     158.00994  \n",
      "7       4.72743  0.18990   0.26874  0.03150       7.22484  \n",
      "8       1.83339  0.00576   0.78957  0.03033       7.20054  \n",
      "9       0.55431  0.00027   0.03663  0.00792       7.07148  \n",
      "...         ...      ...       ...      ...           ...  \n",
      "27771       NaN      NaN   0.01359  0.00333       6.48135  \n",
      "27772   0.00477      NaN   0.03825  0.01863      12.95280  \n",
      "27773       NaN      NaN   0.04176  0.00126       6.43563  \n",
      "27774       NaN      NaN   0.02277  0.00351       6.47613  \n",
      "27775   0.00171      NaN   0.04122  0.04626       6.46839  \n",
      "27776       NaN      NaN   0.05490  0.05913       6.46047  \n",
      "27777   0.00045      NaN   0.02664  0.00792      12.41181  \n",
      "27778       NaN      NaN   0.00090      NaN       6.12405  \n",
      "27779       NaN      NaN   0.00288      NaN       6.18462  \n",
      "27780       NaN      NaN   0.01089      NaN       6.09840  \n",
      "\n",
      "[27781 rows x 26 columns]\n"
     ]
    }
   ],
   "source": [
    "with pd.option_context('display.max_rows', viewMaxRows, 'display.max_columns', None):  # more options can be specified also\n",
    "    print(zs_out)"
   ]
  },
  {
   "cell_type": "markdown",
   "metadata": {},
   "source": [
    "### Calculate total area within states for each state\n",
    "Save to csv to compare with official state land area"
   ]
  },
  {
   "cell_type": "code",
   "execution_count": 285,
   "metadata": {},
   "outputs": [],
   "source": [
    "## total area in state in 1000ha or 0.1*km2\n",
    "totLndArea = zs_out.groupby(\"NAME_1\").LULC_areaSum.sum()\n",
    "totLndArea.to_csv(totalLandArea_fp)"
   ]
  },
  {
   "cell_type": "markdown",
   "metadata": {},
   "source": [
    "## 5) Replace numerical column names with the official class names and save as csv"
   ]
  },
  {
   "cell_type": "code",
   "execution_count": 286,
   "metadata": {},
   "outputs": [],
   "source": [
    "legend = pd.read_csv(legend_fp)\n",
    "\n",
    "## convert the first two columns into a dictionary\n",
    "legend_dict = dict(zip(legend[leg_col_1], legend[leg_col_2]))\n",
    "#NLCDlegend_dict\n",
    "\n",
    "## replace columns using dictionary\n",
    "zs_out_names = zs_out.rename(columns=legend_dict)\n",
    "zs_out_names\n",
    "\n",
    "## rename columns as necessary\n",
    "zs_out_names.rename(columns = {\"NAME_1\": \"State\"}, inplace = True)"
   ]
  },
  {
   "cell_type": "markdown",
   "metadata": {},
   "source": [
    "### Export csv with original classes"
   ]
  },
  {
   "cell_type": "code",
   "execution_count": 287,
   "metadata": {},
   "outputs": [],
   "source": [
    "zs_out_names.to_csv(results_fp)"
   ]
  },
  {
   "cell_type": "markdown",
   "metadata": {},
   "source": [
    "## 6) Reclassify for model requirements and save as another csv\n",
    "\n",
    "This section can be run without running any of the above analysis, just fill out the parameters chunk"
   ]
  },
  {
   "cell_type": "code",
   "execution_count": 288,
   "metadata": {},
   "outputs": [],
   "source": [
    "## read output from source\n",
    "zs_out_names = pd.read_csv(results_fp)\n",
    "zs_out_names.rename(columns = {\"Unnamed: 0\": \"UniqueID\"}, inplace = True)\n",
    "\n",
    "## read csv with mapping from NLCD to GLOBIOM\n",
    "reclassLegend = pd.read_csv(reclassLegend_fp)\n",
    "\n",
    "## convert the first two columns into a dictionary\n",
    "reclassLegend_dict = dict(zip(reclassLegend[reclass_col_1], reclassLegend[reclass_col_2]))\n",
    "#NLCDlegend_dict\n",
    "\n",
    "## replace columns using dictionary\n",
    "zs_out_names_GLO = zs_out_names.rename(columns=reclassLegend_dict)\n",
    "\n",
    "## Sum the columns with the same names\n",
    "zs_out_names_GLO_summed = zs_out_names_GLO.groupby(zs_out_names_GLO.columns, axis=1).sum()\n",
    "zs_out_names_GLO_summed\n",
    "\n",
    "## reorder columns\n",
    "zs_out_names_GLO_summed = zs_out_names_GLO_summed[columnsInFinal]\n",
    "\n",
    "## save to csv\n",
    "zs_out_names_GLO_summed.to_csv(results_mapped_fp)"
   ]
  }
 ],
 "metadata": {
  "kernelspec": {
   "display_name": "Python 3",
   "language": "python",
   "name": "python3"
  },
  "language_info": {
   "codemirror_mode": {
    "name": "ipython",
    "version": 3
   },
   "file_extension": ".py",
   "mimetype": "text/x-python",
   "name": "python",
   "nbconvert_exporter": "python",
   "pygments_lexer": "ipython3",
   "version": "3.7.0"
  }
 },
 "nbformat": 4,
 "nbformat_minor": 2
}
