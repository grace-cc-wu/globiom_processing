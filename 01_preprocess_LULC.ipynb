{
 "cells": [
  {
   "cell_type": "markdown",
   "metadata": {},
   "source": [
    "# Preprocess LULC as csv\n",
    "---\n",
    "\n",
    "This code takes the following data inputs: \n",
    "\n",
    "1. national level SimUs as vector file\n",
    "2. LULC raster(s) for the years of interest\n",
    "\n",
    "And produces a csv in the following format:\n",
    "\n",
    "row 1: Name_1  |  FID_SimU_a  |  SimUID  |  HRU  |  Class 1  | Class 2  |  Class n...\n",
    "\n",
    "Area of each class is in units of 1000 ha"
   ]
  },
  {
   "cell_type": "markdown",
   "metadata": {},
   "source": [
    "## Preamble"
   ]
  },
  {
   "cell_type": "code",
   "execution_count": 2,
   "metadata": {},
   "outputs": [],
   "source": [
    "import gdal\n",
    "import geopandas as gpd\n",
    "import pandas as pd\n",
    "import fiona as fi\n",
    "import matplotlib\n",
    "import matplotlib.pyplot as plt\n",
    "from osgeo import ogr\n",
    "import json\n",
    "import geojson\n",
    "import os\n",
    "from rasterstats import zonal_stats\n",
    "import rasterio\n",
    "import numpy as np\n",
    "import time"
   ]
  },
  {
   "cell_type": "markdown",
   "metadata": {},
   "source": [
    "## Function to calculate zonal stats"
   ]
  },
  {
   "cell_type": "code",
   "execution_count": 8,
   "metadata": {},
   "outputs": [],
   "source": [
    "def calcZS(zones, rasterPath, statsList, categorical):\n",
    "    ## rasterstats manual: https://pythonhosted.org/rasterstats/manual.html#zonal-statistics\n",
    "\n",
    "    ## calc zonal stats\n",
    "    stats_region = zonal_stats(zones, rasterPath, categorical = categorical, stats=statsList)\n",
    "\n",
    "    ## convert to pd df\n",
    "    stats_region_df = pd.DataFrame(stats_region)\n",
    "\n",
    "   ## change area column\n",
    "    #sumSelectedSitesByZone = sumSelectedSitesByZone.rename(columns = {\"Area\": \"area_allSelSites_km2\", dissField_region: \"region\"})[[\"region\",\"area_allSelSites_km2\"]]\n",
    "\n",
    "    ## merge the two df\n",
    "    #stats_concat = stats_concat.merge(sumSelectedSitesByZone, how = \"inner\", left_on=\"region\", right_on=\"region\")\n",
    "\n",
    "    ## calculate percentage\n",
    "    #stats_concat[\"percent_selSites\"] = stats_concat[\"Area\"]/stats_concat['area_allSelSites_km2']\n",
    "\n",
    "    return stats_region_df"
   ]
  },
  {
   "cell_type": "markdown",
   "metadata": {},
   "source": [
    "## Import datasets"
   ]
  },
  {
   "cell_type": "code",
   "execution_count": 6,
   "metadata": {},
   "outputs": [],
   "source": [
    "## SimU datast\n",
    "SimU_fp = \"C:\\\\Users\\\\Grace\\\\Documents\\\\FABLE\\\\GLOBIOM\\\\SimU\\\\gis\\\\SimU_all_select840_USstateSplit_proj.shp\"\n",
    "\n",
    "## LULC dataset\n",
    "LULC_2001_fp= \"C:\\\\Users\\\\Grace\\\\Documents\\\\FABLE\\\\GLOBIOM\\\\US_data\\\\LULC\\\\NLCD\\\\NLCD_2001_Land_Cover_L48_20190424\\\\NLCD_2001_Land_Cover_L48_20190424.img\""
   ]
  },
  {
   "cell_type": "markdown",
   "metadata": {},
   "source": [
    "## Project files as necessary "
   ]
  },
  {
   "cell_type": "code",
   "execution_count": 7,
   "metadata": {},
   "outputs": [],
   "source": [
    "SimU = gpd.read_file(SimU_fp)\n",
    "LULC_2001 = rasterio.open(LULC_2001_fp)\n",
    "\n",
    "SimU_proj = SimU.to_crs(crs=LULC_2001.crs.data)"
   ]
  },
  {
   "cell_type": "markdown",
   "metadata": {},
   "source": [
    "## Run zonal stats"
   ]
  },
  {
   "cell_type": "code",
   "execution_count": null,
   "metadata": {},
   "outputs": [
    {
     "name": "stderr",
     "output_type": "stream",
     "text": [
      "C:\\Users\\Grace\\Anaconda3\\lib\\site-packages\\rasterstats\\io.py:294: UserWarning: Setting nodata to -999; specify nodata explicitly\n",
      "  warnings.warn(\"Setting nodata to -999; specify nodata explicitly\")\n"
     ]
    }
   ],
   "source": [
    "## whether or not the raster is categorical\n",
    "categoricalRaster = True\n",
    "## stats to calculate\n",
    "statList = []\n",
    "\n",
    "zs_out = calcZS(zones = SimU_proj, rasterPath = LULC_2001_fp, statsList = statList, categorical = categoricalRaster)"
   ]
  },
  {
   "cell_type": "code",
   "execution_count": null,
   "metadata": {},
   "outputs": [],
   "source": [
    "zs_out"
   ]
  }
 ],
 "metadata": {
  "kernelspec": {
   "display_name": "Python 3",
   "language": "python",
   "name": "python3"
  },
  "language_info": {
   "codemirror_mode": {
    "name": "ipython",
    "version": 3
   },
   "file_extension": ".py",
   "mimetype": "text/x-python",
   "name": "python",
   "nbconvert_exporter": "python",
   "pygments_lexer": "ipython3",
   "version": "3.7.0"
  }
 },
 "nbformat": 4,
 "nbformat_minor": 2
}
